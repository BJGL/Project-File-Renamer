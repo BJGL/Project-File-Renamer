{
  "nbformat": 4,
  "nbformat_minor": 0,
  "metadata": {
    "colab": {
      "provenance": [],
      "mount_file_id": "1VvvVT56cFncsNXay5NcRE7Gfj3nx8J6E",
      "authorship_tag": "ABX9TyNb25rSmtbN0SqKLEgKzCpw"
    },
    "kernelspec": {
      "name": "python3",
      "display_name": "Python 3"
    },
    "language_info": {
      "name": "python"
    }
  },
  "cells": [
    {
      "cell_type": "code",
      "source": [
        "# 6. Generar el archivo txt\n",
        "\n",
        "def catalogue(original_names, new_names):\n"
      ],
      "metadata": {
        "id": "ETF_TJew57-l"
      },
      "execution_count": null,
      "outputs": []
    },
    {
      "cell_type": "code",
      "source": [
        "import os\n",
        "\n",
        "# Extract the folder name and save it\n",
        "def folder_name(path):\n",
        "  \"\"\"\n",
        "  Returns the name of the folder based on the path\n",
        "  \"\"\"\n",
        "  name = os.path.basename(path)\n",
        "  name = name.strip().upper()\n",
        "  return name\n",
        "\n",
        "# Generate the code by taking the letters in even positions\n",
        "def NameCode(name):\n",
        "  \"\"\"\n",
        "  This function takes the name of the folder as an argument and generates a code\n",
        "  by taking the letters at even positions.\n",
        "  \"\"\"\n",
        "  # We have to set a limit; we have to make sure the code has a maximum of 4 letters.\n",
        "  code = \"\"\n",
        "  for i in range(len(name)):\n",
        "    if i % 2 == 0:  # Check if the index is even\n",
        "      code += name[i]\n",
        "      if len(code) > 3:\n",
        "        break\n",
        "\n",
        "  return code\n",
        "\n",
        "# Save all file names in the list\n",
        "def saving_file_names(folder_path):\n",
        "  \"\"\"\n",
        "  This function saves the original names of all files in the folder.\n",
        "  \"\"\"\n",
        "  file_names = os.listdir(folder_path)\n",
        "  return file_names\n",
        "\n",
        "# Rename each folder with the generated code and add a number at the end to distinguish them.\n",
        "def file_renamer(folder_path, code, original_names):\n",
        "\n",
        "  \"\"\"\n",
        "  This function replaces the file names with the code and adds a suffix.\n",
        "  \"\"\"\n",
        "\n",
        "  new_names = []\n",
        "  for i, name in enumerate(original_names):\n",
        "    # Get the file extension\n",
        "    name_without_extension, extension = os.path.splitext(name)\n",
        "    # Create the new name with the code and a counter\n",
        "    new_name = f\"{code}_{i+1}{extension}\"\n",
        "    # Construct the full original and new file paths\n",
        "    original_file_path = os.path.join(folder_path, name)\n",
        "    new_file_path = os.path.join(folder_path, new_name)\n",
        "    # Rename the file\n",
        "    os.rename(original_file_path, new_file_path)\n",
        "    new_names.append(new_name)\n",
        "\n",
        "  return new_names\n",
        "\n",
        "# --------------------------- Main ---------------------------\n",
        "def main():\n",
        "\n",
        "  folder_path_input = input('Insert the path to the folder here: ')\n",
        "  name = folder_name(folder_path_input)\n",
        "  code = NameCode(name)\n",
        "  print(f\"Generated code: {code}\")\n",
        "  original_names = saving_file_names(folder_path_input)\n",
        "  print(f\"the original filenames are: {original_names}\")\n",
        "  new_names = file_renamer(folder_path_input, code, original_names)\n",
        "  print(f'{new_names}')\n",
        "\n",
        "main()"
      ],
      "metadata": {
        "colab": {
          "base_uri": "https://localhost:8080/"
        },
        "id": "TR7m4SoS9-IW",
        "outputId": "af902dd5-4719-456b-aa15-4655f177481d"
      },
      "execution_count": null,
      "outputs": [
        {
          "output_type": "stream",
          "name": "stdout",
          "text": [
            "Insert the path to the folder here: /content/drive/MyDrive/Quinto semestre\n",
            "Generated code: UNOS\n",
            "the original filenames are: ['Generación de valor con analítica de datos', 'UNOSunosunosBase de Datos para Tec Monterrey.xlsx', 'UNOSunosunosfamilia.xlsx', 'UNOSunosunosindividual.xlsx']\n",
            "['UNOS_1', 'UNOS_2.xlsx', 'UNOS_3.xlsx', 'UNOS_4.xlsx']\n"
          ]
        }
      ]
    },
    {
      "cell_type": "markdown",
      "source": [
        "### Manejo de objeciones\n",
        "\n",
        "- ¿Qué pasa si hay una carpeta dentro de una carpeta?\n",
        "\n",
        "- ¿Qué pasa con las terminaciones de los archivos?\n",
        "\n",
        "- ¿Cómo funciona dentro del escritorio?\n",
        "\n",
        "- ¿Cómo lo hacemos ejecutable como un tipo comando desde la terminal o no sé?"
      ],
      "metadata": {
        "id": "EBxyWPWN5_sE"
      }
    }
  ]
}